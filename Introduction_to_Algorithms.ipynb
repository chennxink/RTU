{
  "cells": [
    {
      "cell_type": "markdown",
      "source": [
        "# What is an Algorithm anyway?\n",
        "\n",
        "An algorithm is an explicit, precise, unambiguous, mechanically-executable\n",
        "sequence of elementary instructions, usually intended to accomplish a specific purpose\n",
        "\n",
        "Source: https://jeffe.cs.illinois.edu/teaching/algorithms/"
      ],
      "metadata": {
        "id": "20c2bqCBNWeJ"
      }
    },
    {
      "cell_type": "markdown",
      "source": [
        "## Al-gebra and al-gorithm and al-gorists (not Al-Gorists)\n",
        "\n",
        "![Musa-al-Kharismi](https://upload.wikimedia.org/wikipedia/commons/a/a6/Khwarizmi_Amirkabir_University_of_Technology.png)\n",
        "\n",
        "https://en.wikipedia.org/wiki/Muhammad_ibn_Musa_al-Khwarizmi"
      ],
      "metadata": {
        "id": "1oLXpnAkP4fX"
      }
    },
    {
      "cell_type": "markdown",
      "source": [
        "## Decent Algorithm\n",
        "\n",
        "BottlesOfBeer(n):\n",
        "\n",
        "```\n",
        "For i ← n down to 1\n",
        "\n",
        "  Sing “i bottles of beer on the wall, i bottles of beer, ”\n",
        "\n",
        "  Sing “ Take one down, pass it around, i − 1 bottles of beer on the wall. ”\n",
        "\n",
        "  Sing “ No bottles of beer on the wall, no bottles of beer, ”\n",
        "\n",
        "  Sing “ Go to the store, buy some more, n bottles of beer on the wall. ”\n",
        "```\n",
        "\n"
      ],
      "metadata": {
        "id": "XaQT2vJyPP9u"
      }
    },
    {
      "cell_type": "markdown",
      "source": [
        "## Not a real algorithm \n",
        "\n",
        "BeAMillionaireAndNeverPayTaxes():\n",
        "\n",
        "\n",
        "```\n",
        "\n",
        "Get a million dollars. \n",
        "\n",
        "If the tax man comes to your door and says, “ You have never paid taxes! ”\n",
        "\n",
        "Say “ I forgot.\n",
        "```\n",
        "\n",
        "\n",
        "\n",
        "\n",
        "### How about  Get a million dollars algorithm?\n",
        "1. Collect underpants\n",
        "2. ?\n",
        "3. Profit\n",
        "\n",
        "Source: https://en.wikipedia.org/wiki/Gnomes_(South_Park)\n",
        "\n",
        "Still not a real algorithm.\n"
      ],
      "metadata": {
        "id": "ag3UlpCEN7d-"
      }
    },
    {
      "cell_type": "markdown",
      "source": [
        "## Describing Algorithms\n",
        "\n",
        "The skills required to effectively design and analyze algorithms are entangled with the skills required to effectively describe algorithms. A complete description of any algorithm has four components:\n",
        "\n",
        " *  **What:** A precise specification of the problem that the algorithm solves.\n",
        " *  **How:** A precise description of the algorithm itself.\n",
        " * **Why:** A proof that the algorithm solves the problem it is supposed to solve.\n",
        " * **How fast:** An analysis of the running time of the algorithm."
      ],
      "metadata": {
        "id": "Kcqi5WkhOg74"
      }
    },
    {
      "cell_type": "code",
      "source": [],
      "metadata": {
        "id": "a6Ayo4tTOzTe"
      },
      "execution_count": null,
      "outputs": []
    },
    {
      "cell_type": "markdown",
      "metadata": {
        "id": "vlXOIa4MM-Ao"
      },
      "source": [
        "# How to find a the largest number in an unsorted list(array)?\n",
        "#"
      ]
    },
    {
      "cell_type": "code",
      "execution_count": null,
      "metadata": {
        "id": "4fdPxJvEM-Aw",
        "outputId": "3f33f61f-5a65-4f87-9f02-838fdce8f1da",
        "colab": {
          "base_uri": "https://localhost:8080/"
        }
      },
      "outputs": [
        {
          "output_type": "stream",
          "name": "stdout",
          "text": [
            "67\n"
          ]
        }
      ],
      "source": [
        "mylist = [1,4,67,2,7,2]\n",
        "print(max(mylist)) # built in max function in Python"
      ]
    },
    {
      "cell_type": "code",
      "execution_count": null,
      "metadata": {
        "id": "n1bkJVxKM-A0"
      },
      "outputs": [],
      "source": [
        "# lets implement our naive max algorithm\n",
        "# or as they call it Brute Force\n",
        "def find_my_max(seq):\n",
        "    my_max = None # alternatives start with first value or max negative \n",
        "    for n in seq:\n",
        "        if my_max == None or n > my_max:\n",
        "            my_max = n\n",
        "    return my_max\n",
        "    # set max to negative infinitty\n",
        "    # loop through seq\n",
        "    # if any number is larger than max we set max to this number\n",
        "    # return max"
      ]
    },
    {
      "cell_type": "code",
      "execution_count": null,
      "metadata": {
        "id": "HYKr3rSLM-A3",
        "outputId": "b4f7dbd8-6742-41b3-df11-c798a3bf43d0",
        "colab": {
          "base_uri": "https://localhost:8080/"
        }
      },
      "outputs": [
        {
          "output_type": "stream",
          "name": "stdout",
          "text": [
            "67\n"
          ]
        }
      ],
      "source": [
        "print(find_my_max(mylist))"
      ]
    },
    {
      "cell_type": "code",
      "execution_count": null,
      "metadata": {
        "id": "IFYycmEYM-A4",
        "outputId": "03711e6c-6506-4bc5-d250-3812a39e5d83",
        "colab": {
          "base_uri": "https://localhost:8080/"
        }
      },
      "outputs": [
        {
          "output_type": "stream",
          "name": "stdout",
          "text": [
            "23\n"
          ]
        }
      ],
      "source": [
        "print(find_my_max([-4,23,-6,2,0,0,5]))"
      ]
    },
    {
      "cell_type": "code",
      "execution_count": null,
      "metadata": {
        "id": "KXgk-E94M-A5",
        "outputId": "1fc8fab3-2740-431d-d809-070df998732c",
        "colab": {
          "base_uri": "https://localhost:8080/"
        }
      },
      "outputs": [
        {
          "output_type": "execute_result",
          "data": {
            "text/plain": [
              "1000000"
            ]
          },
          "metadata": {},
          "execution_count": 6
        }
      ],
      "source": [
        "import random\n",
        "big_list = [random.randint(1,100_000_000) for _ in range(1_000_000)]  # list comprehension, _ signifies that iterator is not important\n",
        "len(big_list)\n"
      ]
    },
    {
      "cell_type": "code",
      "source": [
        "big_list[:5] # first 5"
      ],
      "metadata": {
        "id": "KzUEiimOdWLM",
        "outputId": "61fd7ecf-6334-4cbf-ef30-149fb847ebfa",
        "colab": {
          "base_uri": "https://localhost:8080/"
        }
      },
      "execution_count": null,
      "outputs": [
        {
          "output_type": "execute_result",
          "data": {
            "text/plain": [
              "[96203017, 52561796, 54243923, 16766430, 15226127]"
            ]
          },
          "metadata": {},
          "execution_count": 7
        }
      ]
    },
    {
      "cell_type": "code",
      "source": [
        "big_list[-5:] # last 5"
      ],
      "metadata": {
        "id": "jMg53JFEdY1C",
        "outputId": "a4ea96c4-6cdc-41b0-a4c5-1eeb0d1cbd57",
        "colab": {
          "base_uri": "https://localhost:8080/"
        }
      },
      "execution_count": null,
      "outputs": [
        {
          "output_type": "execute_result",
          "data": {
            "text/plain": [
              "[88790219, 80747864, 5052228, 63131589, 38801514]"
            ]
          },
          "metadata": {},
          "execution_count": 8
        }
      ]
    },
    {
      "cell_type": "code",
      "source": [
        "max(big_list)"
      ],
      "metadata": {
        "id": "CEKFuO3ddsAI",
        "outputId": "f77ccbf7-2bc8-4ea5-ddbd-25cb1c7c6d29",
        "colab": {
          "base_uri": "https://localhost:8080/"
        }
      },
      "execution_count": null,
      "outputs": [
        {
          "output_type": "execute_result",
          "data": {
            "text/plain": [
              "99999983"
            ]
          },
          "metadata": {},
          "execution_count": 9
        }
      ]
    },
    {
      "cell_type": "code",
      "source": [
        "find_my_max(big_list)"
      ],
      "metadata": {
        "id": "uyrcLrMueCI2",
        "outputId": "1fb17862-4cae-45ed-a5c4-f88af48ba60a",
        "colab": {
          "base_uri": "https://localhost:8080/"
        }
      },
      "execution_count": null,
      "outputs": [
        {
          "output_type": "execute_result",
          "data": {
            "text/plain": [
              "99999983"
            ]
          },
          "metadata": {},
          "execution_count": 10
        }
      ]
    },
    {
      "cell_type": "code",
      "source": [
        "%%timeit\n",
        "max(mylist)"
      ],
      "metadata": {
        "id": "BAM96Rwjf22a",
        "outputId": "67a7ca63-89fc-4b89-f1af-6dfae7382277",
        "colab": {
          "base_uri": "https://localhost:8080/"
        }
      },
      "execution_count": null,
      "outputs": [
        {
          "output_type": "stream",
          "name": "stdout",
          "text": [
            "225 ns ± 11 ns per loop (mean ± std. dev. of 7 runs, 1000000 loops each)\n"
          ]
        }
      ]
    },
    {
      "cell_type": "code",
      "source": [
        "%%timeit\n",
        "find_my_max(mylist)"
      ],
      "metadata": {
        "id": "HnNHIE_FgJuS",
        "outputId": "0b902b7a-8870-4824-9f59-af8e765d9d33",
        "colab": {
          "base_uri": "https://localhost:8080/"
        }
      },
      "execution_count": null,
      "outputs": [
        {
          "output_type": "stream",
          "name": "stdout",
          "text": [
            "675 ns ± 14.7 ns per loop (mean ± std. dev. of 7 runs, 1000000 loops each)\n"
          ]
        }
      ]
    },
    {
      "cell_type": "code",
      "execution_count": null,
      "metadata": {
        "id": "K3XEZd-GM-A6",
        "outputId": "907a3ecd-485d-433d-f51d-8e006c153d74",
        "colab": {
          "base_uri": "https://localhost:8080/"
        }
      },
      "outputs": [
        {
          "output_type": "stream",
          "name": "stdout",
          "text": [
            "15.7 ms ± 193 µs per loop (mean ± std. dev. of 7 runs, 100 loops each)\n"
          ]
        }
      ],
      "source": [
        "%%timeit\n",
        "max(big_list) # most likely this is already cached so running it 1000 times will not prove nothing"
      ]
    },
    {
      "cell_type": "code",
      "execution_count": null,
      "metadata": {
        "id": "aXmlSvbPM-A7",
        "outputId": "46474bca-3e10-40cf-e870-88a6e133a6fe",
        "colab": {
          "base_uri": "https://localhost:8080/"
        }
      },
      "outputs": [
        {
          "output_type": "stream",
          "name": "stdout",
          "text": [
            "81 ms ± 428 µs per loop (mean ± std. dev. of 7 runs, 10 loops each)\n"
          ]
        }
      ],
      "source": [
        "%%timeit\n",
        "find_my_max(big_list)"
      ]
    },
    {
      "cell_type": "code",
      "execution_count": null,
      "metadata": {
        "id": "gehlEGmbM-A9"
      },
      "outputs": [],
      "source": [
        "huge_list = [random.randint(1,1_000_000_000) for _ in range(10_000_000)] # lists are not as efficient as c arrays\n"
      ]
    },
    {
      "cell_type": "code",
      "source": [
        "len(huge_list)"
      ],
      "metadata": {
        "id": "CO7RHHlNglNQ",
        "outputId": "bc950800-dfc0-464f-c139-19361f35a8ce",
        "colab": {
          "base_uri": "https://localhost:8080/"
        }
      },
      "execution_count": null,
      "outputs": [
        {
          "output_type": "execute_result",
          "data": {
            "text/plain": [
              "10000000"
            ]
          },
          "metadata": {},
          "execution_count": 17
        }
      ]
    },
    {
      "cell_type": "code",
      "execution_count": null,
      "metadata": {
        "id": "uQpR7BrWM-A-",
        "outputId": "c673a239-61bc-4e21-eafb-b18b453d9a00",
        "colab": {
          "base_uri": "https://localhost:8080/"
        }
      },
      "outputs": [
        {
          "output_type": "stream",
          "name": "stdout",
          "text": [
            "155 ms ± 2.13 ms per loop (mean ± std. dev. of 7 runs, 10 loops each)\n"
          ]
        }
      ],
      "source": [
        "%%timeit\n",
        "max(huge_list)"
      ]
    },
    {
      "cell_type": "code",
      "execution_count": null,
      "metadata": {
        "id": "MKebvWqIM-A_",
        "outputId": "aace02cd-0108-4d0c-def0-102329ef5ffc",
        "colab": {
          "base_uri": "https://localhost:8080/"
        }
      },
      "outputs": [
        {
          "output_type": "stream",
          "name": "stdout",
          "text": [
            "806 ms ± 8.89 ms per loop (mean ± std. dev. of 7 runs, 1 loop each)\n"
          ]
        }
      ],
      "source": [
        "%%timeit\n",
        "find_my_max(huge_list)"
      ]
    },
    {
      "cell_type": "code",
      "execution_count": null,
      "metadata": {
        "id": "zaYvnMXCM-BA",
        "outputId": "c1b4e611-dd67-4320-9bec-f9dfe8657d30"
      },
      "outputs": [
        {
          "name": "stdout",
          "output_type": "stream",
          "text": [
            "959 ms ± 69 ms per loop (mean ± std. dev. of 7 runs, 1 loop each)\n"
          ]
        }
      ],
      "source": [
        "%%timeit\n",
        "find_my_max(huge_list)"
      ]
    },
    {
      "cell_type": "markdown",
      "source": [
        "## Can we find max(or min) in a faster way in a list?"
      ],
      "metadata": {
        "id": "3kLSuHJphmVT"
      }
    },
    {
      "cell_type": "code",
      "execution_count": null,
      "metadata": {
        "id": "q_mdquc5M-BB",
        "outputId": "e5814b62-c921-4f2d-b0da-ae6f07ab2226",
        "colab": {
          "base_uri": "https://localhost:8080/"
        }
      },
      "outputs": [
        {
          "output_type": "execute_result",
          "data": {
            "text/plain": [
              "[24, 51, 122, 456, 675]"
            ]
          },
          "metadata": {},
          "execution_count": 20
        }
      ],
      "source": [
        "sorted_big_list = sorted(big_list)  # sorted has its own complexity (about that later)\n",
        "sorted_big_list[:5]\n"
      ]
    },
    {
      "cell_type": "code",
      "execution_count": null,
      "metadata": {
        "id": "ZDMXXyotM-BB",
        "outputId": "8b32dd79-e19a-4742-dfb2-1f062d80febf",
        "colab": {
          "base_uri": "https://localhost:8080/"
        }
      },
      "outputs": [
        {
          "output_type": "stream",
          "name": "stdout",
          "text": [
            "89.9 ms ± 14.1 ms per loop (mean ± std. dev. of 7 runs, 10 loops each)\n"
          ]
        }
      ],
      "source": [
        "%%timeit\n",
        "max(sorted_big_list)"
      ]
    },
    {
      "cell_type": "code",
      "execution_count": null,
      "metadata": {
        "id": "bLpo65OdM-BC",
        "outputId": "757d1c5d-7ac2-4129-bbf0-21b9c80e2ddb",
        "colab": {
          "base_uri": "https://localhost:8080/"
        }
      },
      "outputs": [
        {
          "output_type": "stream",
          "name": "stdout",
          "text": [
            "85.5 ms ± 15.8 ms per loop (mean ± std. dev. of 7 runs, 10 loops each)\n"
          ]
        }
      ],
      "source": [
        "%%timeit\n",
        "min(sorted_big_list)"
      ]
    },
    {
      "cell_type": "code",
      "execution_count": null,
      "metadata": {
        "id": "01t2T1ksM-BC",
        "outputId": "7b443261-6dae-424a-f7ea-86642e9c62da",
        "colab": {
          "base_uri": "https://localhost:8080/"
        }
      },
      "outputs": [
        {
          "output_type": "execute_result",
          "data": {
            "text/plain": [
              "(24, 99999983)"
            ]
          },
          "metadata": {},
          "execution_count": 23
        }
      ],
      "source": [
        "sorted_big_list[0], sorted_big_list[-1]  # we can find min and max in CONSTANT time! assuming the list is sorted\n",
        "# we could have as many items as memory allows"
      ]
    },
    {
      "cell_type": "code",
      "execution_count": null,
      "metadata": {
        "id": "dygHgOAFM-BD",
        "outputId": "39746161-e7b0-437f-d72c-bb18f29ff98b",
        "colab": {
          "base_uri": "https://localhost:8080/"
        }
      },
      "outputs": [
        {
          "output_type": "execute_result",
          "data": {
            "text/plain": [
              "[False,\n",
              " False,\n",
              " False,\n",
              " False,\n",
              " False,\n",
              " False,\n",
              " False,\n",
              " False,\n",
              " False,\n",
              " False,\n",
              " False,\n",
              " False,\n",
              " False,\n",
              " False,\n",
              " False,\n",
              " False,\n",
              " False,\n",
              " False,\n",
              " False,\n",
              " False,\n",
              " False,\n",
              " False,\n",
              " False,\n",
              " False,\n",
              " True,\n",
              " False,\n",
              " False,\n",
              " False,\n",
              " False,\n",
              " False,\n",
              " False,\n",
              " False,\n",
              " False,\n",
              " False,\n",
              " False,\n",
              " False,\n",
              " False,\n",
              " False,\n",
              " False,\n",
              " False,\n",
              " False,\n",
              " False,\n",
              " False,\n",
              " False,\n",
              " False,\n",
              " False,\n",
              " False,\n",
              " False,\n",
              " False,\n",
              " False,\n",
              " False,\n",
              " False,\n",
              " False,\n",
              " False,\n",
              " False,\n",
              " False,\n",
              " False,\n",
              " False,\n",
              " False,\n",
              " False,\n",
              " False,\n",
              " False,\n",
              " False,\n",
              " False,\n",
              " False,\n",
              " False,\n",
              " False,\n",
              " False,\n",
              " False,\n",
              " False,\n",
              " False,\n",
              " False,\n",
              " False,\n",
              " False,\n",
              " False,\n",
              " False,\n",
              " False,\n",
              " False,\n",
              " False,\n",
              " False,\n",
              " False,\n",
              " False,\n",
              " False,\n",
              " False,\n",
              " False,\n",
              " False,\n",
              " False,\n",
              " False,\n",
              " False,\n",
              " False,\n",
              " False,\n",
              " False,\n",
              " False,\n",
              " False,\n",
              " False,\n",
              " False,\n",
              " False,\n",
              " False,\n",
              " False,\n",
              " False,\n",
              " False,\n",
              " False,\n",
              " False,\n",
              " False,\n",
              " False,\n",
              " False,\n",
              " False,\n",
              " False,\n",
              " False,\n",
              " False,\n",
              " False,\n",
              " False,\n",
              " False,\n",
              " False,\n",
              " False,\n",
              " False,\n",
              " False,\n",
              " False,\n",
              " False,\n",
              " False,\n",
              " False,\n",
              " False,\n",
              " False,\n",
              " False,\n",
              " False,\n",
              " False,\n",
              " False,\n",
              " False,\n",
              " False,\n",
              " False,\n",
              " False,\n",
              " False,\n",
              " False,\n",
              " False,\n",
              " False,\n",
              " False,\n",
              " False,\n",
              " False,\n",
              " False,\n",
              " False,\n",
              " False,\n",
              " False,\n",
              " False,\n",
              " False,\n",
              " False,\n",
              " False,\n",
              " False,\n",
              " False,\n",
              " False,\n",
              " False,\n",
              " False,\n",
              " False,\n",
              " False,\n",
              " False,\n",
              " False,\n",
              " False,\n",
              " False,\n",
              " False,\n",
              " False,\n",
              " False,\n",
              " False,\n",
              " False,\n",
              " False,\n",
              " False,\n",
              " False,\n",
              " False,\n",
              " False,\n",
              " False,\n",
              " False,\n",
              " False,\n",
              " False,\n",
              " False,\n",
              " False,\n",
              " False,\n",
              " False,\n",
              " False,\n",
              " False,\n",
              " False,\n",
              " False,\n",
              " False,\n",
              " False,\n",
              " False,\n",
              " False,\n",
              " False,\n",
              " False,\n",
              " False,\n",
              " False,\n",
              " False,\n",
              " False,\n",
              " False,\n",
              " False,\n",
              " False,\n",
              " False,\n",
              " False,\n",
              " False,\n",
              " False,\n",
              " False,\n",
              " False,\n",
              " False,\n",
              " False]"
            ]
          },
          "metadata": {},
          "execution_count": 24
        }
      ],
      "source": [
        "# How about finding some value in a list\n",
        "# i make a list of booleans to see if any values are in range from 9000 until 9199\n",
        "over_9000 = [n in big_list for n in range(9000,9200)]\n",
        "over_9000"
      ]
    },
    {
      "cell_type": "code",
      "execution_count": null,
      "metadata": {
        "id": "eFrx1bp4M-BD",
        "outputId": "6d8a0dcf-b723-4c1e-d975-2495f596a61b",
        "colab": {
          "base_uri": "https://localhost:8080/"
        }
      },
      "outputs": [
        {
          "output_type": "execute_result",
          "data": {
            "text/plain": [
              "True"
            ]
          },
          "metadata": {},
          "execution_count": 25
        }
      ],
      "source": [
        "True in over_9000"
      ]
    },
    {
      "cell_type": "code",
      "execution_count": null,
      "metadata": {
        "id": "UJXTvrD0M-BD",
        "outputId": "c5300c9b-179f-40f0-f937-b3f8bdab08ee",
        "colab": {
          "base_uri": "https://localhost:8080/"
        }
      },
      "outputs": [
        {
          "output_type": "execute_result",
          "data": {
            "text/plain": [
              "24"
            ]
          },
          "metadata": {},
          "execution_count": 26
        }
      ],
      "source": [
        "over_9000.index(True)"
      ]
    },
    {
      "cell_type": "code",
      "source": [
        "# how many are in range 9000 to 9199\n",
        "sum(over_9000)"
      ],
      "metadata": {
        "id": "3QvdVySnjZuO",
        "outputId": "88e1279c-3d62-481c-d2c3-d16b9f839778",
        "colab": {
          "base_uri": "https://localhost:8080/"
        }
      },
      "execution_count": null,
      "outputs": [
        {
          "output_type": "execute_result",
          "data": {
            "text/plain": [
              "1"
            ]
          },
          "metadata": {},
          "execution_count": 29
        }
      ]
    },
    {
      "cell_type": "code",
      "source": [
        "9023 in big_list, 9024 in big_list"
      ],
      "metadata": {
        "id": "kkn9C78xjGql",
        "outputId": "cd555e41-a7b4-4260-8a6a-f9e1fc72a4a3",
        "colab": {
          "base_uri": "https://localhost:8080/"
        }
      },
      "execution_count": null,
      "outputs": [
        {
          "output_type": "execute_result",
          "data": {
            "text/plain": [
              "(False, True)"
            ]
          },
          "metadata": {},
          "execution_count": 28
        }
      ]
    },
    {
      "cell_type": "code",
      "execution_count": null,
      "metadata": {
        "id": "obO1N8Y5M-BE",
        "outputId": "7e554493-56c5-448a-86f8-b91ead7a6727",
        "colab": {
          "base_uri": "https://localhost:8080/"
        }
      },
      "outputs": [
        {
          "output_type": "stream",
          "name": "stdout",
          "text": [
            "4.1 ms ± 137 µs per loop (mean ± std. dev. of 7 runs, 100 loops each)\n"
          ]
        }
      ],
      "source": [
        "%%timeit\n",
        "9024 in big_list # so this check took a while"
      ]
    },
    {
      "cell_type": "code",
      "execution_count": null,
      "metadata": {
        "id": "cvEVSy4mM-BE",
        "outputId": "3be041f7-96a3-4908-b8aa-8f18d0bef22f",
        "colab": {
          "base_uri": "https://localhost:8080/"
        }
      },
      "outputs": [
        {
          "output_type": "stream",
          "name": "stdout",
          "text": [
            "1.16 µs ± 11.8 ns per loop (mean ± std. dev. of 7 runs, 1000000 loops each)\n"
          ]
        }
      ],
      "source": [
        "%%timeit\n",
        "9024 in sorted_big_list"
      ]
    },
    {
      "cell_type": "code",
      "execution_count": null,
      "metadata": {
        "id": "kVg5JlvEM-BF",
        "outputId": "2a255ed5-76e3-448c-f23d-4b1378704649",
        "colab": {
          "base_uri": "https://localhost:8080/"
        }
      },
      "outputs": [
        {
          "output_type": "execute_result",
          "data": {
            "text/plain": [
              "(346533, 92)"
            ]
          },
          "metadata": {},
          "execution_count": 32
        }
      ],
      "source": [
        "big_list.index(9024),sorted_big_list.index(9024)"
      ]
    },
    {
      "cell_type": "code",
      "source": [
        "sorted_big_list[-5:]"
      ],
      "metadata": {
        "id": "xB6Ecgcmj8eh",
        "outputId": "8a03bf9b-9b69-41f3-8f4b-a4798079a8fc",
        "colab": {
          "base_uri": "https://localhost:8080/"
        }
      },
      "execution_count": null,
      "outputs": [
        {
          "output_type": "execute_result",
          "data": {
            "text/plain": [
              "[99999865, 99999910, 99999932, 99999982, 99999983]"
            ]
          },
          "metadata": {},
          "execution_count": 33
        }
      ]
    },
    {
      "cell_type": "code",
      "source": [
        "%%timeit\n",
        "99999983 in sorted_big_list"
      ],
      "metadata": {
        "id": "DDcRVxPBkDKS",
        "outputId": "672427b4-43f6-4b6a-b80f-fc43eabc29c9",
        "colab": {
          "base_uri": "https://localhost:8080/"
        }
      },
      "execution_count": null,
      "outputs": [
        {
          "output_type": "stream",
          "name": "stdout",
          "text": [
            "75.2 ms ± 8.1 ms per loop (mean ± std. dev. of 7 runs, 10 loops each)\n"
          ]
        }
      ]
    },
    {
      "cell_type": "code",
      "source": [
        "%%timeit\n",
        "99999983 in big_list"
      ],
      "metadata": {
        "id": "jyXymNpZkOQl",
        "outputId": "b370449c-f7d3-41e5-a371-667677f0e715",
        "colab": {
          "base_uri": "https://localhost:8080/"
        }
      },
      "execution_count": null,
      "outputs": [
        {
          "output_type": "stream",
          "name": "stdout",
          "text": [
            "5.41 ms ± 167 µs per loop (mean ± std. dev. of 7 runs, 100 loops each)\n"
          ]
        }
      ]
    },
    {
      "cell_type": "code",
      "source": [
        "# Can we do better for membership testing in sorted list?"
      ],
      "metadata": {
        "id": "Gbab_CvxkUXw"
      },
      "execution_count": null,
      "outputs": []
    },
    {
      "cell_type": "code",
      "execution_count": null,
      "metadata": {
        "id": "WymuZ-YVM-BF"
      },
      "outputs": [],
      "source": [
        "big_set = set(big_list) # another data structure based on hashmap"
      ]
    },
    {
      "cell_type": "code",
      "execution_count": null,
      "metadata": {
        "id": "b3XWSfpNM-BF",
        "outputId": "cbd2a574-fc8c-4a6b-e2fa-58b48d4a6952",
        "colab": {
          "base_uri": "https://localhost:8080/"
        }
      },
      "outputs": [
        {
          "output_type": "stream",
          "name": "stdout",
          "text": [
            "65 ns ± 1.11 ns per loop (mean ± std. dev. of 7 runs, 10000000 loops each)\n"
          ]
        }
      ],
      "source": [
        "%%timeit\n",
        "99999983 in big_set\n"
      ]
    },
    {
      "cell_type": "code",
      "source": [],
      "metadata": {
        "id": "M8seBQg1kfy-"
      },
      "execution_count": null,
      "outputs": []
    },
    {
      "cell_type": "code",
      "execution_count": null,
      "metadata": {
        "id": "8FrB50ygM-BG"
      },
      "outputs": [],
      "source": [
        "# Key takeaway - choosing a right data structure can be crucial\n",
        "# in set is O(1)\n",
        "# in list is O(n) - on average, sometimes the value is found quickly sometimes you have to go through whole list"
      ]
    },
    {
      "cell_type": "code",
      "execution_count": null,
      "metadata": {
        "id": "Fj_pQqyMM-BG",
        "outputId": "c81a09df-c343-49d8-ff5f-e31878d85d7f"
      },
      "outputs": [
        {
          "name": "stdout",
          "output_type": "stream",
          "text": [
            "20.8 ms ± 782 µs per loop (mean ± std. dev. of 7 runs, 10 loops each)\n"
          ]
        }
      ],
      "source": [
        "%%timeit\n",
        "9000 in big_list"
      ]
    },
    {
      "cell_type": "code",
      "execution_count": null,
      "metadata": {
        "id": "59lAkXCPM-BH",
        "outputId": "bb157d53-e7dd-4a0b-bb57-ce22ce80151f"
      },
      "outputs": [
        {
          "name": "stdout",
          "output_type": "stream",
          "text": [
            "90.3 ns ± 10.2 ns per loop (mean ± std. dev. of 7 runs, 10000000 loops each)\n"
          ]
        }
      ],
      "source": [
        "%%timeit\n",
        "9000 in big_set"
      ]
    },
    {
      "cell_type": "code",
      "execution_count": null,
      "metadata": {
        "id": "1n-ThLDAM-BH",
        "outputId": "c7923aea-fca8-4f12-a442-d91ec1d99b1f"
      },
      "outputs": [
        {
          "name": "stdout",
          "output_type": "stream",
          "text": [
            "11.2 ms ± 86.2 µs per loop (mean ± std. dev. of 7 runs, 100 loops each)\n"
          ]
        }
      ],
      "source": [
        "%%timeit\n",
        "count = 100_000\n",
        "nums = [] # lets image we do not know about list comprehension\n",
        "for n in range(count):\n",
        "    nums.append(n)\n",
        "nums.reverse() # in place number reversal\n",
        "# of course list(range(count))\n",
        "# nums[:10]"
      ]
    },
    {
      "cell_type": "code",
      "execution_count": null,
      "metadata": {
        "id": "Taw_RB3sM-BH"
      },
      "outputs": [],
      "source": [
        "# can we try to do better ? why reverse if we could already make reverse immediate...."
      ]
    },
    {
      "cell_type": "code",
      "execution_count": null,
      "metadata": {
        "id": "SjfdjM1hM-BI",
        "outputId": "dc6f91fb-b0a1-4147-9539-8c4bc1d24a03"
      },
      "outputs": [
        {
          "name": "stdout",
          "output_type": "stream",
          "text": [
            "3.78 s ± 9.68 ms per loop (mean ± std. dev. of 7 runs, 1 loop each)\n"
          ]
        }
      ],
      "source": [
        "%%timeit\n",
        "count = 100_000\n",
        "nums2 = []\n",
        "for n in range(count):\n",
        "    nums2.insert(0, n)\n",
        "    "
      ]
    },
    {
      "cell_type": "code",
      "execution_count": null,
      "metadata": {
        "id": "r1YQDhfxM-BI",
        "outputId": "1da73168-70cb-48a2-f651-6a61715c20a3"
      },
      "outputs": [
        {
          "data": {
            "text/plain": [
              "([999999, 999998, 999997, 999996, 999995], [99999, 99998, 99997, 99996, 99995])"
            ]
          },
          "execution_count": 59,
          "metadata": {},
          "output_type": "execute_result"
        }
      ],
      "source": [
        "nums[:5],nums2[:5]"
      ]
    },
    {
      "cell_type": "code",
      "source": [
        "# if we did not have set we could use binary search in a sorted list"
      ],
      "metadata": {
        "id": "BGZzc05Nleer"
      },
      "execution_count": null,
      "outputs": []
    },
    {
      "cell_type": "code",
      "source": [
        "# pseudo code for binary search\n",
        "# check if needle is bigger or lesser than middle of sorted collection\n",
        "# check the appropriate half"
      ],
      "metadata": {
        "id": "DRwwKuNflkie"
      },
      "execution_count": null,
      "outputs": []
    },
    {
      "cell_type": "code",
      "source": [
        "def is_needle_in_seq(seq, needle):\n",
        "    start = 0\n",
        "    end = len(seq)-1 # len can hide linear complexity in some structures... not here\n",
        "    \n",
        "    # now we will make a while loop\n",
        "    while start <= end:\n",
        "        mid = (end+start) // 2  # // means no reminder , integer division\n",
        "        if needle == seq[mid]:\n",
        "            print(\"Found it at index\", mid)\n",
        "            return True\n",
        "        elif needle > seq[mid]:\n",
        "            start = mid + 1\n",
        "        elif needle < seq[mid]: # else would work here just as well\n",
        "            end = mid - 1\n",
        "    print(\"Sorry did  not find your needle\", needle)\n",
        "    return False"
      ],
      "metadata": {
        "id": "2waybW61l6O8"
      },
      "execution_count": null,
      "outputs": []
    },
    {
      "cell_type": "code",
      "source": [
        "is_needle_in_seq(sorted_big_list, 9024)"
      ],
      "metadata": {
        "id": "MX-GjsORnyii",
        "outputId": "86d6aaea-ad04-4430-df10-a8877c31c925",
        "colab": {
          "base_uri": "https://localhost:8080/"
        }
      },
      "execution_count": null,
      "outputs": [
        {
          "output_type": "stream",
          "name": "stdout",
          "text": [
            "Found it at index 92\n"
          ]
        },
        {
          "output_type": "execute_result",
          "data": {
            "text/plain": [
              "True"
            ]
          },
          "metadata": {},
          "execution_count": 46
        }
      ]
    },
    {
      "cell_type": "code",
      "source": [
        "9024 in sorted_big_list"
      ],
      "metadata": {
        "id": "Uc63Vz0dpHHY",
        "outputId": "bda3093d-9e5a-4de1-a3dc-2e67aa87df07",
        "colab": {
          "base_uri": "https://localhost:8080/"
        }
      },
      "execution_count": null,
      "outputs": [
        {
          "output_type": "execute_result",
          "data": {
            "text/plain": [
              "True"
            ]
          },
          "metadata": {},
          "execution_count": 44
        }
      ]
    },
    {
      "cell_type": "markdown",
      "metadata": {
        "id": "4yzxPg7FM-BI"
      },
      "source": [
        "# What is GCD?\n",
        "## the largest number that divides two numbers evenly (no reminder)\n",
        "## 12 8 will have GCD of 4, and 21, 18, will have GCD of 3"
      ]
    },
    {
      "cell_type": "markdown",
      "metadata": {
        "id": "R6vS2ZseM-BI"
      },
      "source": [
        "# one algorithm to solve would be this\n",
        "* divide numbers in prime factors\n",
        "* GCD will be the common prime factors in both numbers multiplied"
      ]
    },
    {
      "cell_type": "code",
      "execution_count": null,
      "metadata": {
        "id": "DiSOFH-qM-BJ"
      },
      "outputs": [],
      "source": [
        "# GCD or 30 and 12 would be 6 because:\n",
        "# 30 = 2*3*5\n",
        "# 12 = 2*2*3\n",
        "# so GCD is 2*3\n",
        "# the only catch being that you have to find prime factors for a number\n",
        "# well"
      ]
    },
    {
      "cell_type": "code",
      "execution_count": null,
      "metadata": {
        "id": "Jqn3bYKjM-BJ"
      },
      "outputs": [],
      "source": [
        "# if we did not know about Euclid\n",
        "# brute force algorithm\n",
        "def naiveGCD(x, y):\n",
        "    gcd = 1 # so 1 will always be a fallback GCD\n",
        "    for n in range(2, min(x,y)+1): # also those off by one errors you have to watch out\n",
        "        if x%n == 0 and y%n ==0:\n",
        "            gcd = n # wow we got a new high gcd\n",
        "    return gcd"
      ]
    },
    {
      "cell_type": "code",
      "execution_count": null,
      "metadata": {
        "id": "tP3YkeMdM-BJ",
        "outputId": "60b02e79-19af-4bfb-d861-f3364fb169c0",
        "colab": {
          "base_uri": "https://localhost:8080/"
        }
      },
      "outputs": [
        {
          "output_type": "execute_result",
          "data": {
            "text/plain": [
              "4"
            ]
          },
          "metadata": {},
          "execution_count": 49
        }
      ],
      "source": [
        "naiveGCD(12,8)"
      ]
    },
    {
      "cell_type": "code",
      "execution_count": null,
      "metadata": {
        "id": "5rkbg-4cM-BK",
        "outputId": "c908f0e9-074b-4e23-8823-53becf39ab29",
        "colab": {
          "base_uri": "https://localhost:8080/"
        }
      },
      "outputs": [
        {
          "output_type": "execute_result",
          "data": {
            "text/plain": [
              "6"
            ]
          },
          "metadata": {},
          "execution_count": 50
        }
      ],
      "source": [
        "naiveGCD(30,12)"
      ]
    },
    {
      "cell_type": "code",
      "execution_count": null,
      "metadata": {
        "id": "afT0le3sM-BK",
        "outputId": "114a3f76-52c2-4e40-8f53-ee915f847737",
        "colab": {
          "base_uri": "https://localhost:8080/"
        }
      },
      "outputs": [
        {
          "output_type": "stream",
          "name": "stdout",
          "text": [
            "78.6 ms ± 1.28 ms per loop (mean ± std. dev. of 7 runs, 10 loops each)\n"
          ]
        }
      ],
      "source": [
        "%%timeit\n",
        "naiveGCD(10_000_200,900_000)"
      ]
    },
    {
      "cell_type": "code",
      "execution_count": null,
      "metadata": {
        "id": "ycBTLwl0M-BL"
      },
      "outputs": [],
      "source": [
        "# This 2000 years old algorithm\n",
        "# https://en.wikipedia.org/wiki/Euclidean_algorithm"
      ]
    },
    {
      "cell_type": "code",
      "execution_count": null,
      "metadata": {
        "id": "2U9yrtBwM-BL"
      },
      "outputs": [],
      "source": [
        "def gcd(x, y):\n",
        "    while(y):\n",
        "        x, y = y, x % y # calculate the reminder and then swap the values, in other languages you'd use a temp variable\n",
        "    return x"
      ]
    },
    {
      "cell_type": "code",
      "source": [],
      "metadata": {
        "id": "-Ots9_rXqDSy"
      },
      "execution_count": null,
      "outputs": []
    },
    {
      "cell_type": "code",
      "execution_count": null,
      "metadata": {
        "id": "IzrOh88TM-BL",
        "outputId": "f064a597-eb4a-45e4-d6d7-aaa489bd31fb",
        "colab": {
          "base_uri": "https://localhost:8080/"
        }
      },
      "outputs": [
        {
          "output_type": "execute_result",
          "data": {
            "text/plain": [
              "600"
            ]
          },
          "metadata": {},
          "execution_count": 54
        }
      ],
      "source": [
        "gcd(10_000_200,900_000)"
      ]
    },
    {
      "cell_type": "code",
      "execution_count": null,
      "metadata": {
        "id": "R0U1j1P3M-BM",
        "outputId": "19bd58dc-e99c-47ac-8fdd-d1eef594fab5",
        "colab": {
          "base_uri": "https://localhost:8080/"
        }
      },
      "outputs": [
        {
          "output_type": "stream",
          "name": "stdout",
          "text": [
            "581 ns ± 10 ns per loop (mean ± std. dev. of 7 runs, 1000000 loops each)\n"
          ]
        }
      ],
      "source": [
        "%%timeit\n",
        "gcd(10_000_200,900_000)"
      ]
    },
    {
      "cell_type": "code",
      "execution_count": null,
      "metadata": {
        "id": "trnxxyLpM-BM",
        "outputId": "232fe852-f2d9-47a0-d495-46a940ae8367",
        "colab": {
          "base_uri": "https://localhost:8080/"
        }
      },
      "outputs": [
        {
          "output_type": "execute_result",
          "data": {
            "text/plain": [
              "4"
            ]
          },
          "metadata": {},
          "execution_count": 56
        }
      ],
      "source": [
        "gcd(12, 8)"
      ]
    },
    {
      "cell_type": "code",
      "execution_count": null,
      "metadata": {
        "id": "Lb-bC86-M-BM",
        "outputId": "58e29309-d784-4160-a5a2-ac8895d339e0",
        "colab": {
          "base_uri": "https://localhost:8080/"
        }
      },
      "outputs": [
        {
          "output_type": "execute_result",
          "data": {
            "text/plain": [
              "3"
            ]
          },
          "metadata": {},
          "execution_count": 57
        }
      ],
      "source": [
        "gcd(21,18)"
      ]
    },
    {
      "cell_type": "code",
      "execution_count": null,
      "metadata": {
        "id": "DP5-W3f_M-BN",
        "outputId": "26cf0ab4-9ae8-4ed0-e585-07055ecfe1d8",
        "colab": {
          "base_uri": "https://localhost:8080/"
        }
      },
      "outputs": [
        {
          "output_type": "execute_result",
          "data": {
            "text/plain": [
              "1"
            ]
          },
          "metadata": {},
          "execution_count": 58
        }
      ],
      "source": [
        "gcd(100, 93)"
      ]
    },
    {
      "cell_type": "code",
      "execution_count": null,
      "metadata": {
        "id": "c3uQ1r2MM-BN",
        "outputId": "9aaa8bf1-493a-4906-9f93-1eef84ab62e5",
        "colab": {
          "base_uri": "https://localhost:8080/"
        }
      },
      "outputs": [
        {
          "output_type": "execute_result",
          "data": {
            "text/plain": [
              "2"
            ]
          },
          "metadata": {},
          "execution_count": 59
        }
      ],
      "source": [
        "gcd(10, 8)"
      ]
    },
    {
      "cell_type": "code",
      "execution_count": null,
      "metadata": {
        "id": "ODWG3GQGM-BN",
        "outputId": "bf0f9636-d795-4088-e69f-109e73a1f209",
        "colab": {
          "base_uri": "https://localhost:8080/"
        }
      },
      "outputs": [
        {
          "output_type": "execute_result",
          "data": {
            "text/plain": [
              "12"
            ]
          },
          "metadata": {},
          "execution_count": 60
        }
      ],
      "source": [
        "gcd(24,12)"
      ]
    }
  ],
  "metadata": {
    "kernelspec": {
      "display_name": "Python 3",
      "language": "python",
      "name": "python3"
    },
    "language_info": {
      "codemirror_mode": {
        "name": "ipython",
        "version": 3
      },
      "file_extension": ".py",
      "mimetype": "text/x-python",
      "name": "python",
      "nbconvert_exporter": "python",
      "pygments_lexer": "ipython3",
      "version": "3.8.3"
    },
    "colab": {
      "name": "Introduction_to_Algorithms.ipynb",
      "provenance": [],
      "collapsed_sections": [
        "4yzxPg7FM-BI",
        "R6vS2ZseM-BI"
      ]
    }
  },
  "nbformat": 4,
  "nbformat_minor": 0
}